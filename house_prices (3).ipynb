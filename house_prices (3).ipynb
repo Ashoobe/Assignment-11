{
 "cells": [
  {
   "cell_type": "markdown",
   "id": "f19071fd-3ca9-4656-8b99-bedf3a5bac7c",
   "metadata": {},
   "source": [
    "# Name: Hlay Aliotte\n",
    "# Class: Advanced Python Programming CIS-2532-NET01\n",
    "# Homework: 11 \n",
    "# Author: josephlee94 GitHUb\n",
    "# Program:  Predicting House Prices"
   ]
  },
  {
   "cell_type": "code",
   "execution_count": null,
   "id": "1f85a0f4-b10d-4984-9b3a-6418857e63d1",
   "metadata": {},
   "outputs": [],
   "source": []
  },
  {
   "cell_type": "raw",
   "id": "6c922633-92b3-426e-b3bd-d97acd3f3bb7",
   "metadata": {},
   "source": [
    "In this notebook, we'll go through the code for the coding companion for Intuitive Deep Learning Part 1 (Part 1a, Part 1b) to create your very first neural network to predict whether the house price is below or above median value. We will go through the following in this notebook:\n",
    "\n",
    "Exploring and Processing the Data\n",
    "Building and Training our Neural Network\n",
    "Visualizing Loss and Accuracy\n",
    "Adding Regularization to our Neural Network\n",
    "The code is annotated throughout the notebook and you simply need to download the dataset here, put the dataset in the same folder as this notebook and run the code cells below. Note that the results you get might differ slightly from the blogpost as there is a degree of randomness in the way we split our dataset as well as the initialization of our neural network."
   ]
  },
  {
   "cell_type": "markdown",
   "id": "6ae5b324-888e-4348-811e-eed3e2ae1a40",
   "metadata": {},
   "source": [
    "# Exploring and Processing the Data"
   ]
  },
  {
   "cell_type": "raw",
   "id": "9785d21b-8a13-4625-8441-0baea0b18c98",
   "metadata": {},
   "source": [
    "We first have to read in the CSV file that we've been given. We'll use a package called pandas for that:"
   ]
  },
  {
   "cell_type": "code",
   "execution_count": 1,
   "id": "fa7f03cd-2940-4638-bf45-c40123aa8929",
   "metadata": {},
   "outputs": [],
   "source": [
    "import pandas as pd"
   ]
  },
  {
   "cell_type": "code",
   "execution_count": 2,
   "id": "0a965f4e-7cff-4bc9-b48a-63e85c91d5ae",
   "metadata": {},
   "outputs": [],
   "source": [
    "df = pd.read_csv('housepricedata.csv')"
   ]
  },
  {
   "cell_type": "code",
   "execution_count": 3,
   "id": "7fe36bc3-e6be-45bb-9301-6c3662ddb1de",
   "metadata": {},
   "outputs": [
    {
     "data": {
      "text/html": [
       "<div>\n",
       "<style scoped>\n",
       "    .dataframe tbody tr th:only-of-type {\n",
       "        vertical-align: middle;\n",
       "    }\n",
       "\n",
       "    .dataframe tbody tr th {\n",
       "        vertical-align: top;\n",
       "    }\n",
       "\n",
       "    .dataframe thead th {\n",
       "        text-align: right;\n",
       "    }\n",
       "</style>\n",
       "<table border=\"1\" class=\"dataframe\">\n",
       "  <thead>\n",
       "    <tr style=\"text-align: right;\">\n",
       "      <th></th>\n",
       "      <th>LotArea</th>\n",
       "      <th>OverallQual</th>\n",
       "      <th>OverallCond</th>\n",
       "      <th>TotalBsmtSF</th>\n",
       "      <th>FullBath</th>\n",
       "      <th>HalfBath</th>\n",
       "      <th>BedroomAbvGr</th>\n",
       "      <th>TotRmsAbvGrd</th>\n",
       "      <th>Fireplaces</th>\n",
       "      <th>GarageArea</th>\n",
       "      <th>AboveMedianPrice</th>\n",
       "    </tr>\n",
       "  </thead>\n",
       "  <tbody>\n",
       "    <tr>\n",
       "      <th>0</th>\n",
       "      <td>8450</td>\n",
       "      <td>7</td>\n",
       "      <td>5</td>\n",
       "      <td>856</td>\n",
       "      <td>2</td>\n",
       "      <td>1</td>\n",
       "      <td>3</td>\n",
       "      <td>8</td>\n",
       "      <td>0</td>\n",
       "      <td>548</td>\n",
       "      <td>1</td>\n",
       "    </tr>\n",
       "    <tr>\n",
       "      <th>1</th>\n",
       "      <td>9600</td>\n",
       "      <td>6</td>\n",
       "      <td>8</td>\n",
       "      <td>1262</td>\n",
       "      <td>2</td>\n",
       "      <td>0</td>\n",
       "      <td>3</td>\n",
       "      <td>6</td>\n",
       "      <td>1</td>\n",
       "      <td>460</td>\n",
       "      <td>1</td>\n",
       "    </tr>\n",
       "    <tr>\n",
       "      <th>2</th>\n",
       "      <td>11250</td>\n",
       "      <td>7</td>\n",
       "      <td>5</td>\n",
       "      <td>920</td>\n",
       "      <td>2</td>\n",
       "      <td>1</td>\n",
       "      <td>3</td>\n",
       "      <td>6</td>\n",
       "      <td>1</td>\n",
       "      <td>608</td>\n",
       "      <td>1</td>\n",
       "    </tr>\n",
       "    <tr>\n",
       "      <th>3</th>\n",
       "      <td>9550</td>\n",
       "      <td>7</td>\n",
       "      <td>5</td>\n",
       "      <td>756</td>\n",
       "      <td>1</td>\n",
       "      <td>0</td>\n",
       "      <td>3</td>\n",
       "      <td>7</td>\n",
       "      <td>1</td>\n",
       "      <td>642</td>\n",
       "      <td>0</td>\n",
       "    </tr>\n",
       "    <tr>\n",
       "      <th>4</th>\n",
       "      <td>14260</td>\n",
       "      <td>8</td>\n",
       "      <td>5</td>\n",
       "      <td>1145</td>\n",
       "      <td>2</td>\n",
       "      <td>1</td>\n",
       "      <td>4</td>\n",
       "      <td>9</td>\n",
       "      <td>1</td>\n",
       "      <td>836</td>\n",
       "      <td>1</td>\n",
       "    </tr>\n",
       "    <tr>\n",
       "      <th>...</th>\n",
       "      <td>...</td>\n",
       "      <td>...</td>\n",
       "      <td>...</td>\n",
       "      <td>...</td>\n",
       "      <td>...</td>\n",
       "      <td>...</td>\n",
       "      <td>...</td>\n",
       "      <td>...</td>\n",
       "      <td>...</td>\n",
       "      <td>...</td>\n",
       "      <td>...</td>\n",
       "    </tr>\n",
       "    <tr>\n",
       "      <th>1455</th>\n",
       "      <td>7917</td>\n",
       "      <td>6</td>\n",
       "      <td>5</td>\n",
       "      <td>953</td>\n",
       "      <td>2</td>\n",
       "      <td>1</td>\n",
       "      <td>3</td>\n",
       "      <td>7</td>\n",
       "      <td>1</td>\n",
       "      <td>460</td>\n",
       "      <td>1</td>\n",
       "    </tr>\n",
       "    <tr>\n",
       "      <th>1456</th>\n",
       "      <td>13175</td>\n",
       "      <td>6</td>\n",
       "      <td>6</td>\n",
       "      <td>1542</td>\n",
       "      <td>2</td>\n",
       "      <td>0</td>\n",
       "      <td>3</td>\n",
       "      <td>7</td>\n",
       "      <td>2</td>\n",
       "      <td>500</td>\n",
       "      <td>1</td>\n",
       "    </tr>\n",
       "    <tr>\n",
       "      <th>1457</th>\n",
       "      <td>9042</td>\n",
       "      <td>7</td>\n",
       "      <td>9</td>\n",
       "      <td>1152</td>\n",
       "      <td>2</td>\n",
       "      <td>0</td>\n",
       "      <td>4</td>\n",
       "      <td>9</td>\n",
       "      <td>2</td>\n",
       "      <td>252</td>\n",
       "      <td>1</td>\n",
       "    </tr>\n",
       "    <tr>\n",
       "      <th>1458</th>\n",
       "      <td>9717</td>\n",
       "      <td>5</td>\n",
       "      <td>6</td>\n",
       "      <td>1078</td>\n",
       "      <td>1</td>\n",
       "      <td>0</td>\n",
       "      <td>2</td>\n",
       "      <td>5</td>\n",
       "      <td>0</td>\n",
       "      <td>240</td>\n",
       "      <td>0</td>\n",
       "    </tr>\n",
       "    <tr>\n",
       "      <th>1459</th>\n",
       "      <td>9937</td>\n",
       "      <td>5</td>\n",
       "      <td>6</td>\n",
       "      <td>1256</td>\n",
       "      <td>1</td>\n",
       "      <td>1</td>\n",
       "      <td>3</td>\n",
       "      <td>6</td>\n",
       "      <td>0</td>\n",
       "      <td>276</td>\n",
       "      <td>0</td>\n",
       "    </tr>\n",
       "  </tbody>\n",
       "</table>\n",
       "<p>1460 rows × 11 columns</p>\n",
       "</div>"
      ],
      "text/plain": [
       "      LotArea  OverallQual  OverallCond  TotalBsmtSF  FullBath  HalfBath  \\\n",
       "0        8450            7            5          856         2         1   \n",
       "1        9600            6            8         1262         2         0   \n",
       "2       11250            7            5          920         2         1   \n",
       "3        9550            7            5          756         1         0   \n",
       "4       14260            8            5         1145         2         1   \n",
       "...       ...          ...          ...          ...       ...       ...   \n",
       "1455     7917            6            5          953         2         1   \n",
       "1456    13175            6            6         1542         2         0   \n",
       "1457     9042            7            9         1152         2         0   \n",
       "1458     9717            5            6         1078         1         0   \n",
       "1459     9937            5            6         1256         1         1   \n",
       "\n",
       "      BedroomAbvGr  TotRmsAbvGrd  Fireplaces  GarageArea  AboveMedianPrice  \n",
       "0                3             8           0         548                 1  \n",
       "1                3             6           1         460                 1  \n",
       "2                3             6           1         608                 1  \n",
       "3                3             7           1         642                 0  \n",
       "4                4             9           1         836                 1  \n",
       "...            ...           ...         ...         ...               ...  \n",
       "1455             3             7           1         460                 1  \n",
       "1456             3             7           2         500                 1  \n",
       "1457             4             9           2         252                 1  \n",
       "1458             2             5           0         240                 0  \n",
       "1459             3             6           0         276                 0  \n",
       "\n",
       "[1460 rows x 11 columns]"
      ]
     },
     "execution_count": 3,
     "metadata": {},
     "output_type": "execute_result"
    }
   ],
   "source": [
    "df"
   ]
  },
  {
   "cell_type": "raw",
   "id": "7e3ddfe1-1a95-41e6-bb45-065ef1485efc",
   "metadata": {},
   "source": [
    "The dataset that we have now is in what we call a pandas dataframe. To convert it to an array, simply access its values:"
   ]
  },
  {
   "cell_type": "code",
   "execution_count": 4,
   "id": "b35b80a5-c930-4062-9b53-fa58f5e17bd6",
   "metadata": {},
   "outputs": [],
   "source": [
    "dataset = df.values"
   ]
  },
  {
   "cell_type": "code",
   "execution_count": 5,
   "id": "4047044d-ea0f-408d-96a6-0b2546449f01",
   "metadata": {},
   "outputs": [
    {
     "data": {
      "text/plain": [
       "array([[ 8450,     7,     5, ...,     0,   548,     1],\n",
       "       [ 9600,     6,     8, ...,     1,   460,     1],\n",
       "       [11250,     7,     5, ...,     1,   608,     1],\n",
       "       ...,\n",
       "       [ 9042,     7,     9, ...,     2,   252,     1],\n",
       "       [ 9717,     5,     6, ...,     0,   240,     0],\n",
       "       [ 9937,     5,     6, ...,     0,   276,     0]], dtype=int64)"
      ]
     },
     "execution_count": 5,
     "metadata": {},
     "output_type": "execute_result"
    }
   ],
   "source": [
    "dataset"
   ]
  },
  {
   "cell_type": "raw",
   "id": "2ab6f5d3-8dea-4a59-94dc-2dd08ec71f06",
   "metadata": {},
   "source": [
    "Now, we split the dataset into our input features and the label we wish to predict."
   ]
  },
  {
   "cell_type": "code",
   "execution_count": 6,
   "id": "c8150fa3-2f1c-4b51-8195-e4a666554d55",
   "metadata": {},
   "outputs": [],
   "source": [
    "X = dataset[:,0:10]\n",
    "Y = dataset[:,10]"
   ]
  },
  {
   "cell_type": "raw",
   "id": "6cdd318b-fb93-48b5-8cb8-a9457ec53017",
   "metadata": {},
   "source": [
    "Normalizing our data is very important, as we want the input features to be on the same order of magnitude to make our training easier. We'll use a min-max scaler from scikit-learn which scales our data to be between 0 and 1."
   ]
  },
  {
   "cell_type": "code",
   "execution_count": 7,
   "id": "c1ffe600-1ca0-4c4b-b5e5-c760481ca0ec",
   "metadata": {},
   "outputs": [],
   "source": [
    "from sklearn import preprocessing"
   ]
  },
  {
   "cell_type": "code",
   "execution_count": 8,
   "id": "8ece1d27-bc4a-444a-ab44-6f5e0cbf10c8",
   "metadata": {},
   "outputs": [],
   "source": [
    "min_max_scaler = preprocessing.MinMaxScaler()\n",
    "X_scale = min_max_scaler.fit_transform(X)"
   ]
  },
  {
   "cell_type": "code",
   "execution_count": 9,
   "id": "195fd905-585a-481a-a60d-c6d3cfc79a1f",
   "metadata": {},
   "outputs": [
    {
     "data": {
      "text/plain": [
       "array([[0.0334198 , 0.66666667, 0.5       , ..., 0.5       , 0.        ,\n",
       "        0.3864598 ],\n",
       "       [0.03879502, 0.55555556, 0.875     , ..., 0.33333333, 0.33333333,\n",
       "        0.32440056],\n",
       "       [0.04650728, 0.66666667, 0.5       , ..., 0.33333333, 0.33333333,\n",
       "        0.42877292],\n",
       "       ...,\n",
       "       [0.03618687, 0.66666667, 1.        , ..., 0.58333333, 0.66666667,\n",
       "        0.17771509],\n",
       "       [0.03934189, 0.44444444, 0.625     , ..., 0.25      , 0.        ,\n",
       "        0.16925247],\n",
       "       [0.04037019, 0.44444444, 0.625     , ..., 0.33333333, 0.        ,\n",
       "        0.19464034]])"
      ]
     },
     "execution_count": 9,
     "metadata": {},
     "output_type": "execute_result"
    }
   ],
   "source": [
    "X_scale"
   ]
  },
  {
   "cell_type": "raw",
   "id": "223f2330-2fb0-451f-8e18-0cda02ef5f93",
   "metadata": {},
   "source": [
    "Lastly, we wish to set aside some parts of our dataset for a validation set and a test set. We use the function train_test_split from scikit-learn to do that."
   ]
  },
  {
   "cell_type": "code",
   "execution_count": 10,
   "id": "636355e9-8610-438c-9dd4-c20cfd15e884",
   "metadata": {},
   "outputs": [],
   "source": [
    "from sklearn.model_selection import train_test_split"
   ]
  },
  {
   "cell_type": "code",
   "execution_count": 11,
   "id": "b704241b-2532-436c-a0c8-7a028233c48c",
   "metadata": {},
   "outputs": [],
   "source": [
    "X_train, X_val_and_test, Y_train, Y_val_and_test = train_test_split(X_scale, Y, test_size=0.3)"
   ]
  },
  {
   "cell_type": "code",
   "execution_count": 12,
   "id": "c83da61b-11be-4e38-8bc1-780ce6423a03",
   "metadata": {},
   "outputs": [],
   "source": [
    "X_val, X_test, Y_val, Y_test = train_test_split(X_val_and_test, Y_val_and_test, test_size=0.5)"
   ]
  },
  {
   "cell_type": "code",
   "execution_count": 13,
   "id": "481d6f4d-a734-4880-9f38-c7ca7d6b9336",
   "metadata": {},
   "outputs": [
    {
     "name": "stdout",
     "output_type": "stream",
     "text": [
      "(1022, 10) (219, 10) (219, 10) (1022,) (219,) (219,)\n"
     ]
    }
   ],
   "source": [
    "print(X_train.shape, X_val.shape, X_test.shape, Y_train.shape, Y_val.shape, Y_test.shape)"
   ]
  },
  {
   "cell_type": "markdown",
   "id": "47c51f9e-8359-451d-9543-623551371e33",
   "metadata": {},
   "source": [
    "# Building and Training Our First Neural Network"
   ]
  },
  {
   "cell_type": "raw",
   "id": "912cec98-6d2e-4bee-a912-6b7582ad8df4",
   "metadata": {},
   "source": [
    "We will be using Keras to build our architecture. Let's import the code from Keras that we will need to use:"
   ]
  },
  {
   "cell_type": "code",
   "execution_count": 14,
   "id": "364d2df4-21bf-4e55-91fc-4984423fb8c1",
   "metadata": {},
   "outputs": [],
   "source": [
    "from keras.models import Sequential\n",
    "from keras.layers import Dense"
   ]
  },
  {
   "cell_type": "raw",
   "id": "3ed4457e-bb49-4728-8538-af1c6422b515",
   "metadata": {},
   "source": [
    "Using TensorFlow backend.\n",
    "We will be using the Sequential model, which means that we merely need to describe the layers above in sequence. Our neural network has three layers:\n",
    "\n",
    "Hidden layer 1: 30 neurons, ReLU activation\n",
    "Hidden layer 2: 30 neurons, ReLU activation\n",
    "Output Layer: 1 neuron, Sigmoid activation"
   ]
  },
  {
   "cell_type": "code",
   "execution_count": 15,
   "id": "4e8149b2-b893-4f3d-81bf-f930f17a5624",
   "metadata": {},
   "outputs": [],
   "source": [
    "model = Sequential([\n",
    "    Dense(32, activation='relu', input_shape=(10,)),\n",
    "    Dense(32, activation='relu'),\n",
    "    Dense(1, activation='sigmoid'),\n",
    "])"
   ]
  },
  {
   "cell_type": "raw",
   "id": "1e7d4b60-3551-4389-aa6c-de8eaabeea80",
   "metadata": {},
   "source": [
    "Now that we've got our architecture specified, we need to find the best numbers for it. Before we start our training, we have to configure the model by\n",
    "\n",
    "Telling it what algorithm you want to use to do the optimization (we'll use stochastic gradient descent)\n",
    "Telling it what loss function to use (for binary classification, we will use binary cross entropy)\n",
    "Telling it what other metrics you want to track apart from the loss function (we want to track accuracy as well)\n",
    "We do so below:"
   ]
  },
  {
   "cell_type": "code",
   "execution_count": 16,
   "id": "26ac62e6-177e-4fdb-9d86-3f5660afb4d3",
   "metadata": {},
   "outputs": [],
   "source": [
    "model.compile(optimizer='sgd',\n",
    "              loss='binary_crossentropy',\n",
    "              metrics=['accuracy'])"
   ]
  },
  {
   "cell_type": "raw",
   "id": "9ada7f06-d15f-4ef6-8773-f94f4ae17e34",
   "metadata": {},
   "source": [
    "Training on the data is pretty straightforward and requires us to write one line of code. The function is called 'fit' as we are fitting the parameters to the data. We specify:\n",
    "\n",
    "what data we are training on, which is X_train and Y_train\n",
    "the size of our mini-batch\n",
    "how long we want to train it for (epochs)\n",
    "what our validation data is so that the model will tell us how we are doing on the validation data at each point.\n",
    "This function will output a history, which we save under the variable hist. We'll use this variable a little later."
   ]
  },
  {
   "cell_type": "code",
   "execution_count": 17,
   "id": "02e319cc-a425-46d2-a298-631b87978a4e",
   "metadata": {},
   "outputs": [
    {
     "name": "stdout",
     "output_type": "stream",
     "text": [
      "Epoch 1/100\n",
      "32/32 [==============================] - 0s 4ms/step - loss: 0.7015 - accuracy: 0.3963 - val_loss: 0.6968 - val_accuracy: 0.4292\n",
      "Epoch 2/100\n",
      "32/32 [==============================] - 0s 967us/step - loss: 0.6906 - accuracy: 0.5665 - val_loss: 0.6868 - val_accuracy: 0.6438\n",
      "Epoch 3/100\n",
      "32/32 [==============================] - 0s 968us/step - loss: 0.6802 - accuracy: 0.7329 - val_loss: 0.6783 - val_accuracy: 0.6804\n",
      "Epoch 4/100\n",
      "32/32 [==============================] - 0s 1ms/step - loss: 0.6723 - accuracy: 0.7182 - val_loss: 0.6722 - val_accuracy: 0.7123\n",
      "Epoch 5/100\n",
      "32/32 [==============================] - 0s 1ms/step - loss: 0.6661 - accuracy: 0.7397 - val_loss: 0.6671 - val_accuracy: 0.6986\n",
      "Epoch 6/100\n",
      "32/32 [==============================] - 0s 1ms/step - loss: 0.6605 - accuracy: 0.7378 - val_loss: 0.6623 - val_accuracy: 0.6986\n",
      "Epoch 7/100\n",
      "32/32 [==============================] - 0s 936us/step - loss: 0.6553 - accuracy: 0.7192 - val_loss: 0.6574 - val_accuracy: 0.7032\n",
      "Epoch 8/100\n",
      "32/32 [==============================] - 0s 1ms/step - loss: 0.6499 - accuracy: 0.7339 - val_loss: 0.6525 - val_accuracy: 0.7123\n",
      "Epoch 9/100\n",
      "32/32 [==============================] - 0s 1ms/step - loss: 0.6443 - accuracy: 0.7456 - val_loss: 0.6474 - val_accuracy: 0.7352\n",
      "Epoch 10/100\n",
      "32/32 [==============================] - 0s 1000us/step - loss: 0.6384 - accuracy: 0.7564 - val_loss: 0.6419 - val_accuracy: 0.7489\n",
      "Epoch 11/100\n",
      "32/32 [==============================] - 0s 936us/step - loss: 0.6322 - accuracy: 0.7798 - val_loss: 0.6362 - val_accuracy: 0.7489\n",
      "Epoch 12/100\n",
      "32/32 [==============================] - 0s 1ms/step - loss: 0.6255 - accuracy: 0.7779 - val_loss: 0.6300 - val_accuracy: 0.7626\n",
      "Epoch 13/100\n",
      "32/32 [==============================] - 0s 968us/step - loss: 0.6185 - accuracy: 0.7867 - val_loss: 0.6234 - val_accuracy: 0.7991\n",
      "Epoch 14/100\n",
      "32/32 [==============================] - 0s 968us/step - loss: 0.6111 - accuracy: 0.7984 - val_loss: 0.6167 - val_accuracy: 0.8037\n",
      "Epoch 15/100\n",
      "32/32 [==============================] - 0s 1ms/step - loss: 0.6037 - accuracy: 0.8209 - val_loss: 0.6100 - val_accuracy: 0.7991\n",
      "Epoch 16/100\n",
      "32/32 [==============================] - 0s 935us/step - loss: 0.5960 - accuracy: 0.8229 - val_loss: 0.6030 - val_accuracy: 0.8082\n",
      "Epoch 17/100\n",
      "32/32 [==============================] - 0s 1ms/step - loss: 0.5881 - accuracy: 0.8366 - val_loss: 0.5959 - val_accuracy: 0.8128\n",
      "Epoch 18/100\n",
      "32/32 [==============================] - 0s 1000us/step - loss: 0.5801 - accuracy: 0.8474 - val_loss: 0.5886 - val_accuracy: 0.8128\n",
      "Epoch 19/100\n",
      "32/32 [==============================] - 0s 1ms/step - loss: 0.5716 - accuracy: 0.8444 - val_loss: 0.5811 - val_accuracy: 0.8174\n",
      "Epoch 20/100\n",
      "32/32 [==============================] - 0s 903us/step - loss: 0.5631 - accuracy: 0.8454 - val_loss: 0.5733 - val_accuracy: 0.8311\n",
      "Epoch 21/100\n",
      "32/32 [==============================] - 0s 1000us/step - loss: 0.5545 - accuracy: 0.8523 - val_loss: 0.5655 - val_accuracy: 0.8265\n",
      "Epoch 22/100\n",
      "32/32 [==============================] - 0s 935us/step - loss: 0.5456 - accuracy: 0.8503 - val_loss: 0.5572 - val_accuracy: 0.8402\n",
      "Epoch 23/100\n",
      "32/32 [==============================] - 0s 1ms/step - loss: 0.5365 - accuracy: 0.8542 - val_loss: 0.5488 - val_accuracy: 0.8356\n",
      "Epoch 24/100\n",
      "32/32 [==============================] - 0s 968us/step - loss: 0.5273 - accuracy: 0.8611 - val_loss: 0.5404 - val_accuracy: 0.8402\n",
      "Epoch 25/100\n",
      "32/32 [==============================] - 0s 1000us/step - loss: 0.5178 - accuracy: 0.8571 - val_loss: 0.5318 - val_accuracy: 0.8402\n",
      "Epoch 26/100\n",
      "32/32 [==============================] - 0s 968us/step - loss: 0.5082 - accuracy: 0.8611 - val_loss: 0.5233 - val_accuracy: 0.8402\n",
      "Epoch 27/100\n",
      "32/32 [==============================] - 0s 1ms/step - loss: 0.4986 - accuracy: 0.8620 - val_loss: 0.5146 - val_accuracy: 0.8356\n",
      "Epoch 28/100\n",
      "32/32 [==============================] - 0s 935us/step - loss: 0.4891 - accuracy: 0.8640 - val_loss: 0.5062 - val_accuracy: 0.8402\n",
      "Epoch 29/100\n",
      "32/32 [==============================] - 0s 968us/step - loss: 0.4799 - accuracy: 0.8640 - val_loss: 0.4975 - val_accuracy: 0.8447\n",
      "Epoch 30/100\n",
      "32/32 [==============================] - 0s 935us/step - loss: 0.4704 - accuracy: 0.8650 - val_loss: 0.4893 - val_accuracy: 0.8356\n",
      "Epoch 31/100\n",
      "32/32 [==============================] - 0s 939us/step - loss: 0.4609 - accuracy: 0.8689 - val_loss: 0.4811 - val_accuracy: 0.8402\n",
      "Epoch 32/100\n",
      "32/32 [==============================] - 0s 1000us/step - loss: 0.4519 - accuracy: 0.8699 - val_loss: 0.4731 - val_accuracy: 0.8402\n",
      "Epoch 33/100\n",
      "32/32 [==============================] - 0s 935us/step - loss: 0.4431 - accuracy: 0.8708 - val_loss: 0.4652 - val_accuracy: 0.8447\n",
      "Epoch 34/100\n",
      "32/32 [==============================] - 0s 968us/step - loss: 0.4345 - accuracy: 0.8659 - val_loss: 0.4577 - val_accuracy: 0.8402\n",
      "Epoch 35/100\n",
      "32/32 [==============================] - 0s 903us/step - loss: 0.4261 - accuracy: 0.8738 - val_loss: 0.4505 - val_accuracy: 0.8356\n",
      "Epoch 36/100\n",
      "32/32 [==============================] - 0s 1ms/step - loss: 0.4185 - accuracy: 0.8718 - val_loss: 0.4435 - val_accuracy: 0.8402\n",
      "Epoch 37/100\n",
      "32/32 [==============================] - 0s 903us/step - loss: 0.4106 - accuracy: 0.8699 - val_loss: 0.4368 - val_accuracy: 0.8402\n",
      "Epoch 38/100\n",
      "32/32 [==============================] - 0s 968us/step - loss: 0.4035 - accuracy: 0.8748 - val_loss: 0.4305 - val_accuracy: 0.8356\n",
      "Epoch 39/100\n",
      "32/32 [==============================] - 0s 903us/step - loss: 0.3965 - accuracy: 0.8738 - val_loss: 0.4249 - val_accuracy: 0.8402\n",
      "Epoch 40/100\n",
      "32/32 [==============================] - 0s 1000us/step - loss: 0.3900 - accuracy: 0.8787 - val_loss: 0.4191 - val_accuracy: 0.8402\n",
      "Epoch 41/100\n",
      "32/32 [==============================] - 0s 1ms/step - loss: 0.3836 - accuracy: 0.8728 - val_loss: 0.4134 - val_accuracy: 0.8402\n",
      "Epoch 42/100\n",
      "32/32 [==============================] - 0s 1ms/step - loss: 0.3778 - accuracy: 0.8757 - val_loss: 0.4082 - val_accuracy: 0.8493\n",
      "Epoch 43/100\n",
      "32/32 [==============================] - 0s 1ms/step - loss: 0.3722 - accuracy: 0.8787 - val_loss: 0.4039 - val_accuracy: 0.8402\n",
      "Epoch 44/100\n",
      "32/32 [==============================] - 0s 1ms/step - loss: 0.3671 - accuracy: 0.8787 - val_loss: 0.3995 - val_accuracy: 0.8402\n",
      "Epoch 45/100\n",
      "32/32 [==============================] - 0s 1ms/step - loss: 0.3614 - accuracy: 0.8757 - val_loss: 0.3945 - val_accuracy: 0.8356\n",
      "Epoch 46/100\n",
      "32/32 [==============================] - 0s 1ms/step - loss: 0.3574 - accuracy: 0.8787 - val_loss: 0.3908 - val_accuracy: 0.8402\n",
      "Epoch 47/100\n",
      "32/32 [==============================] - 0s 1ms/step - loss: 0.3528 - accuracy: 0.8796 - val_loss: 0.3867 - val_accuracy: 0.8356\n",
      "Epoch 48/100\n",
      "32/32 [==============================] - 0s 1ms/step - loss: 0.3491 - accuracy: 0.8816 - val_loss: 0.3831 - val_accuracy: 0.8311\n",
      "Epoch 49/100\n",
      "32/32 [==============================] - 0s 1ms/step - loss: 0.3447 - accuracy: 0.8816 - val_loss: 0.3798 - val_accuracy: 0.8356\n",
      "Epoch 50/100\n",
      "32/32 [==============================] - 0s 1ms/step - loss: 0.3412 - accuracy: 0.8806 - val_loss: 0.3767 - val_accuracy: 0.8311\n",
      "Epoch 51/100\n",
      "32/32 [==============================] - 0s 1ms/step - loss: 0.3375 - accuracy: 0.8787 - val_loss: 0.3735 - val_accuracy: 0.8402\n",
      "Epoch 52/100\n",
      "32/32 [==============================] - 0s 1ms/step - loss: 0.3338 - accuracy: 0.8816 - val_loss: 0.3706 - val_accuracy: 0.8402\n",
      "Epoch 53/100\n",
      "32/32 [==============================] - 0s 1ms/step - loss: 0.3313 - accuracy: 0.8816 - val_loss: 0.3681 - val_accuracy: 0.8402\n",
      "Epoch 54/100\n",
      "32/32 [==============================] - 0s 1ms/step - loss: 0.3283 - accuracy: 0.8806 - val_loss: 0.3658 - val_accuracy: 0.8311\n",
      "Epoch 55/100\n",
      "32/32 [==============================] - 0s 1000us/step - loss: 0.3259 - accuracy: 0.8806 - val_loss: 0.3633 - val_accuracy: 0.8356\n",
      "Epoch 56/100\n",
      "32/32 [==============================] - 0s 903us/step - loss: 0.3229 - accuracy: 0.8796 - val_loss: 0.3612 - val_accuracy: 0.8356\n",
      "Epoch 57/100\n",
      "32/32 [==============================] - 0s 1ms/step - loss: 0.3207 - accuracy: 0.8806 - val_loss: 0.3589 - val_accuracy: 0.8356\n",
      "Epoch 58/100\n",
      "32/32 [==============================] - 0s 1ms/step - loss: 0.3185 - accuracy: 0.8836 - val_loss: 0.3569 - val_accuracy: 0.8356\n",
      "Epoch 59/100\n",
      "32/32 [==============================] - 0s 903us/step - loss: 0.3157 - accuracy: 0.8826 - val_loss: 0.3551 - val_accuracy: 0.8311\n",
      "Epoch 60/100\n",
      "32/32 [==============================] - 0s 1000us/step - loss: 0.3138 - accuracy: 0.8826 - val_loss: 0.3535 - val_accuracy: 0.8311\n",
      "Epoch 61/100\n",
      "32/32 [==============================] - 0s 968us/step - loss: 0.3116 - accuracy: 0.8885 - val_loss: 0.3527 - val_accuracy: 0.8311\n",
      "Epoch 62/100\n",
      "32/32 [==============================] - 0s 903us/step - loss: 0.3100 - accuracy: 0.8845 - val_loss: 0.3497 - val_accuracy: 0.8447\n",
      "Epoch 63/100\n",
      "32/32 [==============================] - 0s 968us/step - loss: 0.3087 - accuracy: 0.8845 - val_loss: 0.3482 - val_accuracy: 0.8447\n",
      "Epoch 64/100\n",
      "32/32 [==============================] - 0s 935us/step - loss: 0.3066 - accuracy: 0.8865 - val_loss: 0.3468 - val_accuracy: 0.8402\n",
      "Epoch 65/100\n",
      "32/32 [==============================] - 0s 903us/step - loss: 0.3051 - accuracy: 0.8855 - val_loss: 0.3458 - val_accuracy: 0.8311\n",
      "Epoch 66/100\n",
      "32/32 [==============================] - 0s 935us/step - loss: 0.3032 - accuracy: 0.8855 - val_loss: 0.3442 - val_accuracy: 0.8356\n",
      "Epoch 67/100\n",
      "32/32 [==============================] - 0s 935us/step - loss: 0.3017 - accuracy: 0.8855 - val_loss: 0.3426 - val_accuracy: 0.8402\n",
      "Epoch 68/100\n",
      "32/32 [==============================] - 0s 968us/step - loss: 0.3004 - accuracy: 0.8885 - val_loss: 0.3419 - val_accuracy: 0.8311\n",
      "Epoch 69/100\n",
      "32/32 [==============================] - 0s 935us/step - loss: 0.2987 - accuracy: 0.8924 - val_loss: 0.3417 - val_accuracy: 0.8311\n",
      "Epoch 70/100\n",
      "32/32 [==============================] - 0s 968us/step - loss: 0.2976 - accuracy: 0.8865 - val_loss: 0.3401 - val_accuracy: 0.8311\n",
      "Epoch 71/100\n",
      "32/32 [==============================] - 0s 903us/step - loss: 0.2961 - accuracy: 0.8885 - val_loss: 0.3387 - val_accuracy: 0.8311\n",
      "Epoch 72/100\n",
      "32/32 [==============================] - 0s 968us/step - loss: 0.2953 - accuracy: 0.8894 - val_loss: 0.3367 - val_accuracy: 0.8402\n",
      "Epoch 73/100\n",
      "32/32 [==============================] - 0s 936us/step - loss: 0.2941 - accuracy: 0.8904 - val_loss: 0.3374 - val_accuracy: 0.8356\n",
      "Epoch 74/100\n",
      "32/32 [==============================] - 0s 1000us/step - loss: 0.2930 - accuracy: 0.8865 - val_loss: 0.3356 - val_accuracy: 0.8311\n",
      "Epoch 75/100\n",
      "32/32 [==============================] - 0s 1ms/step - loss: 0.2917 - accuracy: 0.8894 - val_loss: 0.3337 - val_accuracy: 0.8402\n",
      "Epoch 76/100\n",
      "32/32 [==============================] - 0s 976us/step - loss: 0.2906 - accuracy: 0.8914 - val_loss: 0.3337 - val_accuracy: 0.8356\n",
      "Epoch 77/100\n",
      "32/32 [==============================] - 0s 935us/step - loss: 0.2898 - accuracy: 0.8904 - val_loss: 0.3323 - val_accuracy: 0.8356\n",
      "Epoch 78/100\n",
      "32/32 [==============================] - 0s 1ms/step - loss: 0.2888 - accuracy: 0.8924 - val_loss: 0.3310 - val_accuracy: 0.8356\n",
      "Epoch 79/100\n",
      "32/32 [==============================] - 0s 968us/step - loss: 0.2872 - accuracy: 0.8924 - val_loss: 0.3324 - val_accuracy: 0.8402\n",
      "Epoch 80/100\n",
      "32/32 [==============================] - 0s 948us/step - loss: 0.2865 - accuracy: 0.8914 - val_loss: 0.3301 - val_accuracy: 0.8402\n",
      "Epoch 81/100\n",
      "32/32 [==============================] - 0s 968us/step - loss: 0.2854 - accuracy: 0.8924 - val_loss: 0.3302 - val_accuracy: 0.8402\n",
      "Epoch 82/100\n",
      "32/32 [==============================] - 0s 1ms/step - loss: 0.2849 - accuracy: 0.8933 - val_loss: 0.3280 - val_accuracy: 0.8402\n",
      "Epoch 83/100\n",
      "32/32 [==============================] - 0s 936us/step - loss: 0.2834 - accuracy: 0.8914 - val_loss: 0.3303 - val_accuracy: 0.8447\n",
      "Epoch 84/100\n",
      "32/32 [==============================] - 0s 927us/step - loss: 0.2834 - accuracy: 0.8933 - val_loss: 0.3275 - val_accuracy: 0.8447\n",
      "Epoch 85/100\n",
      "32/32 [==============================] - 0s 983us/step - loss: 0.2823 - accuracy: 0.8904 - val_loss: 0.3254 - val_accuracy: 0.8402\n",
      "Epoch 86/100\n",
      "32/32 [==============================] - 0s 903us/step - loss: 0.2811 - accuracy: 0.8933 - val_loss: 0.3246 - val_accuracy: 0.8447\n",
      "Epoch 87/100\n",
      "32/32 [==============================] - 0s 968us/step - loss: 0.2800 - accuracy: 0.8924 - val_loss: 0.3258 - val_accuracy: 0.8447\n",
      "Epoch 88/100\n",
      "32/32 [==============================] - 0s 935us/step - loss: 0.2799 - accuracy: 0.8933 - val_loss: 0.3235 - val_accuracy: 0.8493\n",
      "Epoch 89/100\n",
      "32/32 [==============================] - 0s 935us/step - loss: 0.2791 - accuracy: 0.8865 - val_loss: 0.3227 - val_accuracy: 0.8539\n",
      "Epoch 90/100\n",
      "32/32 [==============================] - 0s 995us/step - loss: 0.2785 - accuracy: 0.8904 - val_loss: 0.3236 - val_accuracy: 0.8493\n",
      "Epoch 91/100\n",
      "32/32 [==============================] - 0s 935us/step - loss: 0.2770 - accuracy: 0.8924 - val_loss: 0.3213 - val_accuracy: 0.8539\n",
      "Epoch 92/100\n",
      "32/32 [==============================] - 0s 950us/step - loss: 0.2769 - accuracy: 0.8943 - val_loss: 0.3207 - val_accuracy: 0.8539\n",
      "Epoch 93/100\n",
      "32/32 [==============================] - 0s 936us/step - loss: 0.2765 - accuracy: 0.8963 - val_loss: 0.3220 - val_accuracy: 0.8493\n",
      "Epoch 94/100\n",
      "32/32 [==============================] - 0s 1000us/step - loss: 0.2761 - accuracy: 0.8953 - val_loss: 0.3201 - val_accuracy: 0.8584\n",
      "Epoch 95/100\n",
      "32/32 [==============================] - 0s 936us/step - loss: 0.2745 - accuracy: 0.8963 - val_loss: 0.3198 - val_accuracy: 0.8584\n",
      "Epoch 96/100\n",
      "32/32 [==============================] - 0s 936us/step - loss: 0.2734 - accuracy: 0.8914 - val_loss: 0.3186 - val_accuracy: 0.8630\n",
      "Epoch 97/100\n",
      "32/32 [==============================] - 0s 936us/step - loss: 0.2735 - accuracy: 0.8924 - val_loss: 0.3184 - val_accuracy: 0.8630\n",
      "Epoch 98/100\n",
      "32/32 [==============================] - 0s 936us/step - loss: 0.2730 - accuracy: 0.8953 - val_loss: 0.3171 - val_accuracy: 0.8630\n",
      "Epoch 99/100\n",
      "32/32 [==============================] - 0s 1ms/step - loss: 0.2713 - accuracy: 0.8904 - val_loss: 0.3166 - val_accuracy: 0.8630\n",
      "Epoch 100/100\n",
      "32/32 [==============================] - 0s 903us/step - loss: 0.2717 - accuracy: 0.8933 - val_loss: 0.3161 - val_accuracy: 0.8630\n"
     ]
    }
   ],
   "source": [
    "hist = model.fit(X_train, Y_train,\n",
    "          batch_size=32, epochs=100,\n",
    "          validation_data=(X_val, Y_val))"
   ]
  },
  {
   "cell_type": "raw",
   "id": "4047d28c-92e8-4cb0-9304-8231441becb5",
   "metadata": {},
   "source": [
    "Evaluating our data on the test set:"
   ]
  },
  {
   "cell_type": "code",
   "execution_count": 18,
   "id": "d8328872-49f9-49b8-9f35-ff44738bd93e",
   "metadata": {},
   "outputs": [
    {
     "name": "stdout",
     "output_type": "stream",
     "text": [
      "7/7 [==============================] - 0s 667us/step - loss: 0.2644 - accuracy: 0.8950\n"
     ]
    },
    {
     "data": {
      "text/plain": [
       "0.8949771523475647"
      ]
     },
     "execution_count": 18,
     "metadata": {},
     "output_type": "execute_result"
    }
   ],
   "source": [
    "model.evaluate(X_test, Y_test)[1]"
   ]
  },
  {
   "cell_type": "markdown",
   "id": "81ce16ea-1e86-4fa6-a7ed-dc821da736ee",
   "metadata": {},
   "source": [
    "# Visualizing Loss and Accuracy"
   ]
  },
  {
   "cell_type": "raw",
   "id": "d15acc0a-27d7-4897-af5a-552ec595c6bb",
   "metadata": {},
   "source": [
    "Import the relevant package we need to do the visualization"
   ]
  },
  {
   "cell_type": "code",
   "execution_count": 19,
   "id": "4df1549b-3907-4071-8c63-660554048b32",
   "metadata": {},
   "outputs": [],
   "source": [
    "import matplotlib.pyplot as plt"
   ]
  },
  {
   "cell_type": "raw",
   "id": "7c9dad6d-1be6-42ca-b619-b83d5dd10aea",
   "metadata": {},
   "source": [
    "We want to visualize the training loss and the validation loss like this:"
   ]
  },
  {
   "cell_type": "code",
   "execution_count": 20,
   "id": "8c50e8cf-03af-4c56-890f-4f4713b916ad",
   "metadata": {},
   "outputs": [
    {
     "data": {
      "image/png": "[encoded data removed]",
      "text/plain": [
       "<Figure size 432x288 with 1 Axes>"
      ]
     },
     "metadata": {
      "needs_background": "light"
     },
     "output_type": "display_data"
    }
   ],
   "source": [
    "plt.plot(hist.history['loss'])\n",
    "plt.plot(hist.history['val_loss'])\n",
    "plt.title('Model loss')\n",
    "plt.ylabel('Loss')\n",
    "plt.xlabel('Epoch')\n",
    "plt.legend(['Train', 'Val'], loc='upper right')\n",
    "plt.show()"
   ]
  },
  {
   "cell_type": "raw",
   "id": "824e12a9-2ab7-4a9d-b288-53510c93c2ac",
   "metadata": {},
   "source": [
    "We can also visualize the training accuracy and the validation accuracy like this:"
   ]
  },
  {
   "cell_type": "code",
   "execution_count": 30,
   "id": "32303eec-6b54-4ba1-a0d7-a7b411c8e282",
   "metadata": {},
   "outputs": [
    {
     "data": {
      "image/png": "[encoded data removed]",
      "text/plain": [
       "<Figure size 432x288 with 1 Axes>"
      ]
     },
     "metadata": {
      "needs_background": "light"
     },
     "output_type": "display_data"
    }
   ],
   "source": [
    "plt.plot(hist.history['accuracy'])\n",
    "plt.plot(hist.history['val_accuracy'])\n",
    "plt.title('Model accuracy')\n",
    "plt.ylabel('Accuracy')\n",
    "plt.xlabel('Epoch')\n",
    "plt.legend(['Train', 'Val'], loc='lower right')\n",
    "plt.show()"
   ]
  },
  {
   "cell_type": "markdown",
   "id": "cd876110-bfa6-4ced-bed9-758ea5a470c2",
   "metadata": {},
   "source": [
    "# Adding Regularization to our Neural Network"
   ]
  },
  {
   "cell_type": "raw",
   "id": "c4d051de-4621-4974-a5a7-8a26e9ce3635",
   "metadata": {},
   "source": [
    "We'll train a model which will overfit, which we call Model 2. This might take a few minutes."
   ]
  },
  {
   "cell_type": "code",
   "execution_count": 21,
   "id": "adf6abc4-1522-4ede-b89e-665e3775603a",
   "metadata": {},
   "outputs": [
    {
     "name": "stdout",
     "output_type": "stream",
     "text": [
      "Epoch 1/100\n",
      "32/32 [==============================] - 1s 16ms/step - loss: 0.4789 - accuracy: 0.7661 - val_loss: 0.3773 - val_accuracy: 0.8447\n",
      "Epoch 2/100\n",
      "32/32 [==============================] - 0s 14ms/step - loss: 0.3545 - accuracy: 0.8581 - val_loss: 0.3838 - val_accuracy: 0.8402\n",
      "Epoch 3/100\n",
      "32/32 [==============================] - 0s 15ms/step - loss: 0.3322 - accuracy: 0.8767 - val_loss: 0.2934 - val_accuracy: 0.8676\n",
      "Epoch 4/100\n",
      "32/32 [==============================] - 0s 14ms/step - loss: 0.2950 - accuracy: 0.8816 - val_loss: 0.3279 - val_accuracy: 0.8539\n",
      "Epoch 5/100\n",
      "32/32 [==============================] - 0s 15ms/step - loss: 0.2747 - accuracy: 0.8885 - val_loss: 0.2764 - val_accuracy: 0.8721\n",
      "Epoch 6/100\n",
      "32/32 [==============================] - 0s 14ms/step - loss: 0.2590 - accuracy: 0.8894 - val_loss: 0.2798 - val_accuracy: 0.8584\n",
      "Epoch 7/100\n",
      "32/32 [==============================] - 0s 13ms/step - loss: 0.2519 - accuracy: 0.8982 - val_loss: 0.2925 - val_accuracy: 0.8813\n",
      "Epoch 8/100\n",
      "32/32 [==============================] - 0s 14ms/step - loss: 0.2679 - accuracy: 0.8816 - val_loss: 0.2896 - val_accuracy: 0.8721\n",
      "Epoch 9/100\n",
      "32/32 [==============================] - 0s 14ms/step - loss: 0.2587 - accuracy: 0.8924 - val_loss: 0.2705 - val_accuracy: 0.8767\n",
      "Epoch 10/100\n",
      "32/32 [==============================] - 0s 14ms/step - loss: 0.2309 - accuracy: 0.9041 - val_loss: 0.3859 - val_accuracy: 0.8311\n",
      "Epoch 11/100\n",
      "32/32 [==============================] - 0s 13ms/step - loss: 0.2404 - accuracy: 0.8933 - val_loss: 0.3032 - val_accuracy: 0.8767\n",
      "Epoch 12/100\n",
      "32/32 [==============================] - 0s 13ms/step - loss: 0.2269 - accuracy: 0.9100 - val_loss: 0.2733 - val_accuracy: 0.8630\n",
      "Epoch 13/100\n",
      "32/32 [==============================] - 1s 18ms/step - loss: 0.2148 - accuracy: 0.9090 - val_loss: 0.3156 - val_accuracy: 0.8676\n",
      "Epoch 14/100\n",
      "32/32 [==============================] - 0s 14ms/step - loss: 0.2175 - accuracy: 0.9119 - val_loss: 0.2683 - val_accuracy: 0.8813\n",
      "Epoch 15/100\n",
      "32/32 [==============================] - 0s 13ms/step - loss: 0.2005 - accuracy: 0.9168 - val_loss: 0.3059 - val_accuracy: 0.8630\n",
      "Epoch 16/100\n",
      "32/32 [==============================] - 1s 17ms/step - loss: 0.2311 - accuracy: 0.9119 - val_loss: 0.2755 - val_accuracy: 0.8630\n",
      "Epoch 17/100\n",
      "32/32 [==============================] - 0s 14ms/step - loss: 0.2239 - accuracy: 0.9129 - val_loss: 0.2816 - val_accuracy: 0.8676\n",
      "Epoch 18/100\n",
      "32/32 [==============================] - 0s 13ms/step - loss: 0.1948 - accuracy: 0.9149 - val_loss: 0.2763 - val_accuracy: 0.8767\n",
      "Epoch 19/100\n",
      "32/32 [==============================] - 0s 13ms/step - loss: 0.1930 - accuracy: 0.9217 - val_loss: 0.3326 - val_accuracy: 0.8402\n",
      "Epoch 20/100\n",
      "32/32 [==============================] - 0s 13ms/step - loss: 0.2113 - accuracy: 0.9051 - val_loss: 0.2630 - val_accuracy: 0.8813\n",
      "Epoch 21/100\n",
      "32/32 [==============================] - 0s 13ms/step - loss: 0.2049 - accuracy: 0.9237 - val_loss: 0.2712 - val_accuracy: 0.8767\n",
      "Epoch 22/100\n",
      "32/32 [==============================] - 0s 13ms/step - loss: 0.1829 - accuracy: 0.9237 - val_loss: 0.2935 - val_accuracy: 0.8676\n",
      "Epoch 23/100\n",
      "32/32 [==============================] - 0s 13ms/step - loss: 0.1722 - accuracy: 0.9286 - val_loss: 0.3086 - val_accuracy: 0.8767\n",
      "Epoch 24/100\n",
      "32/32 [==============================] - 0s 14ms/step - loss: 0.2002 - accuracy: 0.9149 - val_loss: 0.3629 - val_accuracy: 0.8447\n",
      "Epoch 25/100\n",
      "32/32 [==============================] - 0s 13ms/step - loss: 0.1956 - accuracy: 0.9198 - val_loss: 0.3210 - val_accuracy: 0.8767\n",
      "Epoch 26/100\n",
      "32/32 [==============================] - 0s 13ms/step - loss: 0.2038 - accuracy: 0.9119 - val_loss: 0.2782 - val_accuracy: 0.8767\n",
      "Epoch 27/100\n",
      "32/32 [==============================] - 0s 12ms/step - loss: 0.1996 - accuracy: 0.9129 - val_loss: 0.2866 - val_accuracy: 0.8721\n",
      "Epoch 28/100\n",
      "32/32 [==============================] - 0s 13ms/step - loss: 0.1762 - accuracy: 0.9247 - val_loss: 0.2770 - val_accuracy: 0.8767\n",
      "Epoch 29/100\n",
      "32/32 [==============================] - 0s 13ms/step - loss: 0.1755 - accuracy: 0.9256 - val_loss: 0.2827 - val_accuracy: 0.8721\n",
      "Epoch 30/100\n",
      "32/32 [==============================] - 0s 12ms/step - loss: 0.2165 - accuracy: 0.9110 - val_loss: 0.3039 - val_accuracy: 0.8858\n",
      "Epoch 31/100\n",
      "32/32 [==============================] - 1s 16ms/step - loss: 0.1766 - accuracy: 0.9325 - val_loss: 0.3145 - val_accuracy: 0.8813\n",
      "Epoch 32/100\n",
      "32/32 [==============================] - 0s 14ms/step - loss: 0.1791 - accuracy: 0.9237 - val_loss: 0.3184 - val_accuracy: 0.8721\n",
      "Epoch 33/100\n",
      "32/32 [==============================] - 0s 14ms/step - loss: 0.1956 - accuracy: 0.9159 - val_loss: 0.3177 - val_accuracy: 0.8767\n",
      "Epoch 34/100\n",
      "32/32 [==============================] - 0s 13ms/step - loss: 0.1823 - accuracy: 0.9178 - val_loss: 0.2788 - val_accuracy: 0.8813\n",
      "Epoch 35/100\n",
      "32/32 [==============================] - 1s 16ms/step - loss: 0.1794 - accuracy: 0.9237 - val_loss: 0.3395 - val_accuracy: 0.8539\n",
      "Epoch 36/100\n",
      "32/32 [==============================] - 0s 14ms/step - loss: 0.1687 - accuracy: 0.9256 - val_loss: 0.3725 - val_accuracy: 0.8721\n",
      "Epoch 37/100\n",
      "32/32 [==============================] - 0s 14ms/step - loss: 0.1555 - accuracy: 0.9393 - val_loss: 0.3466 - val_accuracy: 0.8813\n",
      "Epoch 38/100\n",
      "32/32 [==============================] - 0s 14ms/step - loss: 0.1565 - accuracy: 0.9315 - val_loss: 0.3041 - val_accuracy: 0.8676\n",
      "Epoch 39/100\n",
      "32/32 [==============================] - 0s 15ms/step - loss: 0.1787 - accuracy: 0.9286 - val_loss: 0.3237 - val_accuracy: 0.8447\n",
      "Epoch 40/100\n",
      "32/32 [==============================] - 0s 14ms/step - loss: 0.1726 - accuracy: 0.9256 - val_loss: 0.2588 - val_accuracy: 0.8767\n",
      "Epoch 41/100\n",
      "32/32 [==============================] - 0s 14ms/step - loss: 0.1520 - accuracy: 0.9354 - val_loss: 0.2736 - val_accuracy: 0.8630\n",
      "Epoch 42/100\n",
      "32/32 [==============================] - 0s 15ms/step - loss: 0.1627 - accuracy: 0.9266 - val_loss: 0.3117 - val_accuracy: 0.8630\n",
      "Epoch 43/100\n",
      "32/32 [==============================] - 0s 14ms/step - loss: 0.1410 - accuracy: 0.9393 - val_loss: 0.3800 - val_accuracy: 0.8676\n",
      "Epoch 44/100\n",
      "32/32 [==============================] - 0s 15ms/step - loss: 0.1540 - accuracy: 0.9364 - val_loss: 0.3374 - val_accuracy: 0.8676\n",
      "Epoch 45/100\n",
      "32/32 [==============================] - 0s 15ms/step - loss: 0.1589 - accuracy: 0.9305 - val_loss: 0.4312 - val_accuracy: 0.8813\n",
      "Epoch 46/100\n",
      "32/32 [==============================] - 0s 15ms/step - loss: 0.1436 - accuracy: 0.9364 - val_loss: 0.3052 - val_accuracy: 0.8767\n",
      "Epoch 47/100\n",
      "32/32 [==============================] - 0s 15ms/step - loss: 0.1566 - accuracy: 0.9354 - val_loss: 0.3156 - val_accuracy: 0.8858\n",
      "Epoch 48/100\n",
      "32/32 [==============================] - 0s 14ms/step - loss: 0.1312 - accuracy: 0.9423 - val_loss: 0.4416 - val_accuracy: 0.8584\n",
      "Epoch 49/100\n",
      "32/32 [==============================] - 0s 14ms/step - loss: 0.1449 - accuracy: 0.9344 - val_loss: 0.3626 - val_accuracy: 0.8721\n",
      "Epoch 50/100\n",
      "32/32 [==============================] - 0s 14ms/step - loss: 0.1365 - accuracy: 0.9442 - val_loss: 0.4256 - val_accuracy: 0.8676\n",
      "Epoch 51/100\n",
      "32/32 [==============================] - 0s 14ms/step - loss: 0.1658 - accuracy: 0.9256 - val_loss: 0.3069 - val_accuracy: 0.8676\n",
      "Epoch 52/100\n",
      "32/32 [==============================] - 0s 14ms/step - loss: 0.1415 - accuracy: 0.9364 - val_loss: 0.3628 - val_accuracy: 0.8721\n",
      "Epoch 53/100\n",
      "32/32 [==============================] - 1s 18ms/step - loss: 0.1363 - accuracy: 0.9442 - val_loss: 0.3647 - val_accuracy: 0.8676\n",
      "Epoch 54/100\n",
      "32/32 [==============================] - 0s 14ms/step - loss: 0.1385 - accuracy: 0.9393 - val_loss: 0.3390 - val_accuracy: 0.8676\n",
      "Epoch 55/100\n",
      "32/32 [==============================] - 0s 14ms/step - loss: 0.1457 - accuracy: 0.9354 - val_loss: 0.3849 - val_accuracy: 0.8767\n",
      "Epoch 56/100\n",
      "32/32 [==============================] - 0s 15ms/step - loss: 0.1437 - accuracy: 0.9393 - val_loss: 0.3691 - val_accuracy: 0.8767\n",
      "Epoch 57/100\n",
      "32/32 [==============================] - 1s 17ms/step - loss: 0.1332 - accuracy: 0.9384 - val_loss: 0.4037 - val_accuracy: 0.8402\n",
      "Epoch 58/100\n",
      "32/32 [==============================] - 0s 14ms/step - loss: 0.1310 - accuracy: 0.9423 - val_loss: 0.3548 - val_accuracy: 0.8767\n",
      "Epoch 59/100\n",
      "32/32 [==============================] - 0s 14ms/step - loss: 0.1214 - accuracy: 0.9530 - val_loss: 0.3472 - val_accuracy: 0.8904\n",
      "Epoch 60/100\n",
      "32/32 [==============================] - 0s 13ms/step - loss: 0.1507 - accuracy: 0.9354 - val_loss: 0.3932 - val_accuracy: 0.8584\n",
      "Epoch 61/100\n",
      "32/32 [==============================] - 0s 14ms/step - loss: 0.1301 - accuracy: 0.9442 - val_loss: 0.3590 - val_accuracy: 0.8584\n",
      "Epoch 62/100\n",
      "32/32 [==============================] - 0s 14ms/step - loss: 0.1322 - accuracy: 0.9481 - val_loss: 0.3421 - val_accuracy: 0.8630\n",
      "Epoch 63/100\n",
      "32/32 [==============================] - 1s 16ms/step - loss: 0.1310 - accuracy: 0.9432 - val_loss: 0.3531 - val_accuracy: 0.8584\n",
      "Epoch 64/100\n",
      "32/32 [==============================] - 1s 16ms/step - loss: 0.1320 - accuracy: 0.9472 - val_loss: 0.3406 - val_accuracy: 0.8721\n",
      "Epoch 65/100\n",
      "32/32 [==============================] - 0s 14ms/step - loss: 0.1260 - accuracy: 0.9442 - val_loss: 0.3784 - val_accuracy: 0.8539\n",
      "Epoch 66/100\n",
      "32/32 [==============================] - 0s 13ms/step - loss: 0.1573 - accuracy: 0.9286 - val_loss: 0.3193 - val_accuracy: 0.8721\n",
      "Epoch 67/100\n",
      "32/32 [==============================] - 0s 13ms/step - loss: 0.1130 - accuracy: 0.9521 - val_loss: 0.4185 - val_accuracy: 0.8767\n",
      "Epoch 68/100\n",
      "32/32 [==============================] - 0s 13ms/step - loss: 0.1297 - accuracy: 0.9442 - val_loss: 0.4544 - val_accuracy: 0.8584\n",
      "Epoch 69/100\n",
      "32/32 [==============================] - 0s 13ms/step - loss: 0.1405 - accuracy: 0.9462 - val_loss: 0.3391 - val_accuracy: 0.8584\n",
      "Epoch 70/100\n",
      "32/32 [==============================] - 0s 13ms/step - loss: 0.1795 - accuracy: 0.9227 - val_loss: 0.3247 - val_accuracy: 0.8584\n",
      "Epoch 71/100\n",
      "32/32 [==============================] - 0s 14ms/step - loss: 0.1425 - accuracy: 0.9384 - val_loss: 0.4356 - val_accuracy: 0.8584\n",
      "Epoch 72/100\n",
      "32/32 [==============================] - 0s 13ms/step - loss: 0.1059 - accuracy: 0.9579 - val_loss: 0.4204 - val_accuracy: 0.8584\n",
      "Epoch 73/100\n",
      "32/32 [==============================] - 0s 13ms/step - loss: 0.1274 - accuracy: 0.9452 - val_loss: 0.3933 - val_accuracy: 0.8676\n",
      "Epoch 74/100\n",
      "32/32 [==============================] - 0s 13ms/step - loss: 0.1028 - accuracy: 0.9569 - val_loss: 0.4903 - val_accuracy: 0.8493\n",
      "Epoch 75/100\n",
      "32/32 [==============================] - 0s 13ms/step - loss: 0.1471 - accuracy: 0.9403 - val_loss: 0.3562 - val_accuracy: 0.8447\n",
      "Epoch 76/100\n",
      "32/32 [==============================] - 0s 13ms/step - loss: 0.1087 - accuracy: 0.9609 - val_loss: 0.4938 - val_accuracy: 0.8539\n",
      "Epoch 77/100\n",
      "32/32 [==============================] - 0s 13ms/step - loss: 0.1366 - accuracy: 0.9403 - val_loss: 0.4501 - val_accuracy: 0.8265\n",
      "Epoch 78/100\n",
      "32/32 [==============================] - 0s 13ms/step - loss: 0.1201 - accuracy: 0.9511 - val_loss: 0.4692 - val_accuracy: 0.8630\n",
      "Epoch 79/100\n",
      "32/32 [==============================] - 0s 13ms/step - loss: 0.1263 - accuracy: 0.9403 - val_loss: 0.3616 - val_accuracy: 0.8676\n",
      "Epoch 80/100\n",
      "32/32 [==============================] - 0s 14ms/step - loss: 0.1110 - accuracy: 0.9540 - val_loss: 0.4092 - val_accuracy: 0.8584\n",
      "Epoch 81/100\n",
      "32/32 [==============================] - 0s 15ms/step - loss: 0.0942 - accuracy: 0.9599 - val_loss: 0.4928 - val_accuracy: 0.8630\n",
      "Epoch 82/100\n",
      "32/32 [==============================] - 0s 14ms/step - loss: 0.0985 - accuracy: 0.9569 - val_loss: 0.5128 - val_accuracy: 0.8402\n",
      "Epoch 83/100\n",
      "32/32 [==============================] - 0s 13ms/step - loss: 0.1176 - accuracy: 0.9589 - val_loss: 0.3758 - val_accuracy: 0.8721\n",
      "Epoch 84/100\n",
      "32/32 [==============================] - 0s 13ms/step - loss: 0.1148 - accuracy: 0.9569 - val_loss: 0.4852 - val_accuracy: 0.8539\n",
      "Epoch 85/100\n",
      "32/32 [==============================] - 0s 15ms/step - loss: 0.1220 - accuracy: 0.9481 - val_loss: 0.5302 - val_accuracy: 0.8539\n",
      "Epoch 86/100\n",
      "32/32 [==============================] - 0s 14ms/step - loss: 0.0981 - accuracy: 0.9677 - val_loss: 0.4199 - val_accuracy: 0.8630\n",
      "Epoch 87/100\n",
      "32/32 [==============================] - 1s 16ms/step - loss: 0.1082 - accuracy: 0.9589 - val_loss: 0.4054 - val_accuracy: 0.8539\n",
      "Epoch 88/100\n",
      "32/32 [==============================] - 0s 14ms/step - loss: 0.0942 - accuracy: 0.9638 - val_loss: 0.4956 - val_accuracy: 0.8539\n",
      "Epoch 89/100\n",
      "32/32 [==============================] - 0s 15ms/step - loss: 0.0863 - accuracy: 0.9638 - val_loss: 0.5586 - val_accuracy: 0.8584\n",
      "Epoch 90/100\n",
      "32/32 [==============================] - 0s 14ms/step - loss: 0.0876 - accuracy: 0.9638 - val_loss: 0.4692 - val_accuracy: 0.8721\n",
      "Epoch 91/100\n",
      "32/32 [==============================] - 0s 14ms/step - loss: 0.0844 - accuracy: 0.9716 - val_loss: 0.6377 - val_accuracy: 0.8630\n",
      "Epoch 92/100\n",
      "32/32 [==============================] - 0s 14ms/step - loss: 0.1079 - accuracy: 0.9579 - val_loss: 0.4265 - val_accuracy: 0.8630\n",
      "Epoch 93/100\n",
      "32/32 [==============================] - 0s 15ms/step - loss: 0.1207 - accuracy: 0.9491 - val_loss: 0.4191 - val_accuracy: 0.8721\n",
      "Epoch 94/100\n",
      "32/32 [==============================] - 0s 15ms/step - loss: 0.1001 - accuracy: 0.9560 - val_loss: 0.4255 - val_accuracy: 0.8721\n",
      "Epoch 95/100\n",
      "32/32 [==============================] - 0s 14ms/step - loss: 0.0953 - accuracy: 0.9628 - val_loss: 0.6975 - val_accuracy: 0.8813\n",
      "Epoch 96/100\n",
      "32/32 [==============================] - 0s 14ms/step - loss: 0.1002 - accuracy: 0.9618 - val_loss: 0.4669 - val_accuracy: 0.8630\n",
      "Epoch 97/100\n",
      "32/32 [==============================] - 0s 15ms/step - loss: 0.1035 - accuracy: 0.9579 - val_loss: 0.5420 - val_accuracy: 0.8402\n",
      "Epoch 98/100\n",
      "32/32 [==============================] - 0s 15ms/step - loss: 0.1960 - accuracy: 0.9237 - val_loss: 0.3586 - val_accuracy: 0.8721\n",
      "Epoch 99/100\n",
      "32/32 [==============================] - 0s 15ms/step - loss: 0.1420 - accuracy: 0.9403 - val_loss: 0.3639 - val_accuracy: 0.8721\n",
      "Epoch 100/100\n",
      "32/32 [==============================] - 0s 16ms/step - loss: 0.1037 - accuracy: 0.9550 - val_loss: 0.4233 - val_accuracy: 0.8584\n"
     ]
    }
   ],
   "source": [
    "model_2 = Sequential([\n",
    "    Dense(1000, activation='relu', input_shape=(10,)),\n",
    "    Dense(1000, activation='relu'),\n",
    "    Dense(1000, activation='relu'),\n",
    "    Dense(1000, activation='relu'),\n",
    "    Dense(1, activation='sigmoid'),\n",
    "])\n",
    "model_2.compile(optimizer='adam',\n",
    "              loss='binary_crossentropy',\n",
    "              metrics=['accuracy'])\n",
    "hist_2 = model_2.fit(X_train, Y_train,\n",
    "          batch_size=32, epochs=100,\n",
    "          validation_data=(X_val, Y_val))"
   ]
  },
  {
   "cell_type": "raw",
   "id": "dfb7fc4d-b03c-4895-b8f3-1dfc51f22aef",
   "metadata": {},
   "source": [
    "Let's do the same visualization to see what overfitting looks like in terms of the loss and accuracy."
   ]
  },
  {
   "cell_type": "code",
   "execution_count": 22,
   "id": "54cb687e-2e7d-428d-9c2b-45aa419baa90",
   "metadata": {},
   "outputs": [
    {
     "data": {
      "image/png": "[encoded data removed]",
      "text/plain": [
       "<Figure size 432x288 with 1 Axes>"
      ]
     },
     "metadata": {
      "needs_background": "light"
     },
     "output_type": "display_data"
    }
   ],
   "source": [
    "plt.plot(hist_2.history['loss'])\n",
    "plt.plot(hist_2.history['val_loss'])\n",
    "plt.title('Model loss')\n",
    "plt.ylabel('Loss')\n",
    "plt.xlabel('Epoch')\n",
    "plt.legend(['Train', 'Val'], loc='upper right')\n",
    "plt.show()"
   ]
  },
  {
   "cell_type": "raw",
   "id": "7af24ae9-a977-4eb6-bba9-7fcc4789cc15",
   "metadata": {},
   "source": [
    "To address the overfitting we see in Model 2, we'll incorporate L2 regularization and dropout in our third model here (Model 3)."
   ]
  },
  {
   "cell_type": "code",
   "execution_count": 23,
   "id": "44bee5d9-4c65-4f2b-9c61-82a808ce8397",
   "metadata": {},
   "outputs": [],
   "source": [
    "from keras.layers import Dropout\n",
    "from keras import regularizers"
   ]
  },
  {
   "cell_type": "code",
   "execution_count": 24,
   "id": "885e4fe8-ce93-45c8-9ace-80fbd7bf605b",
   "metadata": {},
   "outputs": [],
   "source": [
    "model_3 = Sequential([\n",
    "    Dense(1000, activation='relu', kernel_regularizer=regularizers.l2(0.01), input_shape=(10,)),\n",
    "    Dropout(0.3),\n",
    "    Dense(1000, activation='relu', kernel_regularizer=regularizers.l2(0.01)),\n",
    "    Dropout(0.3),\n",
    "    Dense(1000, activation='relu', kernel_regularizer=regularizers.l2(0.01)),\n",
    "    Dropout(0.3),\n",
    "    Dense(1000, activation='relu', kernel_regularizer=regularizers.l2(0.01)),\n",
    "    Dropout(0.3),\n",
    "    Dense(1, activation='sigmoid', kernel_regularizer=regularizers.l2(0.01)),\n",
    "])"
   ]
  },
  {
   "cell_type": "code",
   "execution_count": 25,
   "id": "19c22b8b-e253-49b6-9ce2-0c5175fddcbb",
   "metadata": {},
   "outputs": [
    {
     "name": "stdout",
     "output_type": "stream",
     "text": [
      "Epoch 1/100\n",
      "32/32 [==============================] - 1s 24ms/step - loss: 14.2544 - accuracy: 0.6331 - val_loss: 3.9136 - val_accuracy: 0.7854\n",
      "Epoch 2/100\n",
      "32/32 [==============================] - 1s 21ms/step - loss: 1.6656 - accuracy: 0.8503 - val_loss: 0.7322 - val_accuracy: 0.8219\n",
      "Epoch 3/100\n",
      "32/32 [==============================] - 1s 21ms/step - loss: 0.5736 - accuracy: 0.8659 - val_loss: 0.5750 - val_accuracy: 0.8219\n",
      "Epoch 4/100\n",
      "32/32 [==============================] - 1s 22ms/step - loss: 0.5113 - accuracy: 0.8787 - val_loss: 0.5519 - val_accuracy: 0.8493\n",
      "Epoch 5/100\n",
      "32/32 [==============================] - 1s 23ms/step - loss: 0.4879 - accuracy: 0.8777 - val_loss: 0.5085 - val_accuracy: 0.8493\n",
      "Epoch 6/100\n",
      "32/32 [==============================] - 1s 23ms/step - loss: 0.5284 - accuracy: 0.8503 - val_loss: 0.5069 - val_accuracy: 0.8630\n",
      "Epoch 7/100\n",
      "32/32 [==============================] - 1s 22ms/step - loss: 0.4777 - accuracy: 0.8806 - val_loss: 0.5605 - val_accuracy: 0.8311\n",
      "Epoch 8/100\n",
      "32/32 [==============================] - 1s 22ms/step - loss: 0.4782 - accuracy: 0.8650 - val_loss: 0.4816 - val_accuracy: 0.8630\n",
      "Epoch 9/100\n",
      "32/32 [==============================] - 1s 22ms/step - loss: 0.4536 - accuracy: 0.8845 - val_loss: 0.4781 - val_accuracy: 0.8584\n",
      "Epoch 10/100\n",
      "32/32 [==============================] - 1s 22ms/step - loss: 0.4477 - accuracy: 0.8865 - val_loss: 0.4669 - val_accuracy: 0.8539\n",
      "Epoch 11/100\n",
      "32/32 [==============================] - 1s 26ms/step - loss: 0.4840 - accuracy: 0.8679 - val_loss: 0.4770 - val_accuracy: 0.8584\n",
      "Epoch 12/100\n",
      "32/32 [==============================] - 1s 21ms/step - loss: 0.4379 - accuracy: 0.8924 - val_loss: 0.4675 - val_accuracy: 0.8584\n",
      "Epoch 13/100\n",
      "32/32 [==============================] - 1s 21ms/step - loss: 0.4726 - accuracy: 0.8581 - val_loss: 0.5375 - val_accuracy: 0.8311\n",
      "Epoch 14/100\n",
      "32/32 [==============================] - 1s 23ms/step - loss: 0.4482 - accuracy: 0.8924 - val_loss: 0.4663 - val_accuracy: 0.8584\n",
      "Epoch 15/100\n",
      "32/32 [==============================] - 1s 26ms/step - loss: 0.4399 - accuracy: 0.8904 - val_loss: 0.4756 - val_accuracy: 0.8584\n",
      "Epoch 16/100\n",
      "32/32 [==============================] - 1s 22ms/step - loss: 0.4359 - accuracy: 0.8904 - val_loss: 0.4634 - val_accuracy: 0.8676\n",
      "Epoch 17/100\n",
      "32/32 [==============================] - 1s 22ms/step - loss: 0.4491 - accuracy: 0.8679 - val_loss: 0.4851 - val_accuracy: 0.8584\n",
      "Epoch 18/100\n",
      "32/32 [==============================] - 1s 23ms/step - loss: 0.4765 - accuracy: 0.8728 - val_loss: 0.4706 - val_accuracy: 0.8630\n",
      "Epoch 19/100\n",
      "32/32 [==============================] - 1s 23ms/step - loss: 0.4507 - accuracy: 0.8865 - val_loss: 0.4612 - val_accuracy: 0.8584\n",
      "Epoch 20/100\n",
      "32/32 [==============================] - 1s 26ms/step - loss: 0.4514 - accuracy: 0.8806 - val_loss: 0.4916 - val_accuracy: 0.8447\n",
      "Epoch 21/100\n",
      "32/32 [==============================] - 1s 24ms/step - loss: 0.4820 - accuracy: 0.8591 - val_loss: 0.5053 - val_accuracy: 0.8402\n",
      "Epoch 22/100\n",
      "32/32 [==============================] - 1s 24ms/step - loss: 0.4545 - accuracy: 0.8855 - val_loss: 0.4617 - val_accuracy: 0.8676\n",
      "Epoch 23/100\n",
      "32/32 [==============================] - 1s 24ms/step - loss: 0.4441 - accuracy: 0.8787 - val_loss: 0.4590 - val_accuracy: 0.8630\n",
      "Epoch 24/100\n",
      "32/32 [==============================] - 1s 22ms/step - loss: 0.4358 - accuracy: 0.8806 - val_loss: 0.4519 - val_accuracy: 0.8493\n",
      "Epoch 25/100\n",
      "32/32 [==============================] - 1s 20ms/step - loss: 0.4485 - accuracy: 0.8836 - val_loss: 0.4747 - val_accuracy: 0.8630\n",
      "Epoch 26/100\n",
      "32/32 [==============================] - 1s 22ms/step - loss: 0.4635 - accuracy: 0.8669 - val_loss: 0.5450 - val_accuracy: 0.8311\n",
      "Epoch 27/100\n",
      "32/32 [==============================] - 1s 23ms/step - loss: 0.4550 - accuracy: 0.8767 - val_loss: 0.4670 - val_accuracy: 0.8539\n",
      "Epoch 28/100\n",
      "32/32 [==============================] - 1s 25ms/step - loss: 0.4293 - accuracy: 0.8865 - val_loss: 0.4580 - val_accuracy: 0.8584\n",
      "Epoch 29/100\n",
      "32/32 [==============================] - 1s 24ms/step - loss: 0.4259 - accuracy: 0.8924 - val_loss: 0.4521 - val_accuracy: 0.8630\n",
      "Epoch 30/100\n",
      "32/32 [==============================] - 1s 23ms/step - loss: 0.4429 - accuracy: 0.8914 - val_loss: 0.4869 - val_accuracy: 0.8493\n",
      "Epoch 31/100\n",
      "32/32 [==============================] - 1s 22ms/step - loss: 0.4484 - accuracy: 0.8787 - val_loss: 0.4599 - val_accuracy: 0.8676\n",
      "Epoch 32/100\n",
      "32/32 [==============================] - 1s 23ms/step - loss: 0.4402 - accuracy: 0.8845 - val_loss: 0.4563 - val_accuracy: 0.8630\n",
      "Epoch 33/100\n",
      "32/32 [==============================] - 1s 21ms/step - loss: 0.4446 - accuracy: 0.8787 - val_loss: 0.4663 - val_accuracy: 0.8676\n",
      "Epoch 34/100\n",
      "32/32 [==============================] - 1s 22ms/step - loss: 0.4390 - accuracy: 0.8845 - val_loss: 0.5002 - val_accuracy: 0.8447\n",
      "Epoch 35/100\n",
      "32/32 [==============================] - 1s 22ms/step - loss: 0.4575 - accuracy: 0.8806 - val_loss: 0.4603 - val_accuracy: 0.8584\n",
      "Epoch 36/100\n",
      "32/32 [==============================] - 1s 24ms/step - loss: 0.4172 - accuracy: 0.8894 - val_loss: 0.4571 - val_accuracy: 0.8676\n",
      "Epoch 37/100\n",
      "32/32 [==============================] - 1s 23ms/step - loss: 0.4329 - accuracy: 0.8836 - val_loss: 0.4550 - val_accuracy: 0.8539\n",
      "Epoch 38/100\n",
      "32/32 [==============================] - 1s 23ms/step - loss: 0.4452 - accuracy: 0.8796 - val_loss: 0.4647 - val_accuracy: 0.8493\n",
      "Epoch 39/100\n",
      "32/32 [==============================] - 1s 23ms/step - loss: 0.4212 - accuracy: 0.8904 - val_loss: 0.4604 - val_accuracy: 0.8539\n",
      "Epoch 40/100\n",
      "32/32 [==============================] - 1s 21ms/step - loss: 0.4314 - accuracy: 0.8963 - val_loss: 0.5554 - val_accuracy: 0.8037\n",
      "Epoch 41/100\n",
      "32/32 [==============================] - 1s 22ms/step - loss: 0.4364 - accuracy: 0.8836 - val_loss: 0.4492 - val_accuracy: 0.8584\n",
      "Epoch 42/100\n",
      "32/32 [==============================] - 1s 23ms/step - loss: 0.4352 - accuracy: 0.8845 - val_loss: 0.5021 - val_accuracy: 0.8311\n",
      "Epoch 43/100\n",
      "32/32 [==============================] - 1s 22ms/step - loss: 0.4372 - accuracy: 0.8826 - val_loss: 0.5466 - val_accuracy: 0.8219\n",
      "Epoch 44/100\n",
      "32/32 [==============================] - 1s 24ms/step - loss: 0.4457 - accuracy: 0.8826 - val_loss: 0.4526 - val_accuracy: 0.8584\n",
      "Epoch 45/100\n",
      "32/32 [==============================] - 1s 23ms/step - loss: 0.4432 - accuracy: 0.8845 - val_loss: 0.4835 - val_accuracy: 0.8402\n",
      "Epoch 46/100\n",
      "32/32 [==============================] - 1s 23ms/step - loss: 0.4361 - accuracy: 0.8806 - val_loss: 0.4491 - val_accuracy: 0.8630\n",
      "Epoch 47/100\n",
      "32/32 [==============================] - 1s 23ms/step - loss: 0.4248 - accuracy: 0.8914 - val_loss: 0.4519 - val_accuracy: 0.8584\n",
      "Epoch 48/100\n",
      "32/32 [==============================] - 1s 22ms/step - loss: 0.4297 - accuracy: 0.8865 - val_loss: 0.4522 - val_accuracy: 0.8584\n",
      "Epoch 49/100\n",
      "32/32 [==============================] - 1s 22ms/step - loss: 0.4215 - accuracy: 0.8924 - val_loss: 0.4542 - val_accuracy: 0.8584\n",
      "Epoch 50/100\n",
      "32/32 [==============================] - 1s 22ms/step - loss: 0.4640 - accuracy: 0.8718 - val_loss: 0.4758 - val_accuracy: 0.8447\n",
      "Epoch 51/100\n",
      "32/32 [==============================] - 1s 21ms/step - loss: 0.4392 - accuracy: 0.8699 - val_loss: 0.4611 - val_accuracy: 0.8584\n",
      "Epoch 52/100\n",
      "32/32 [==============================] - 1s 23ms/step - loss: 0.4468 - accuracy: 0.8865 - val_loss: 0.4570 - val_accuracy: 0.8584\n",
      "Epoch 53/100\n",
      "32/32 [==============================] - 1s 23ms/step - loss: 0.4406 - accuracy: 0.8845 - val_loss: 0.4518 - val_accuracy: 0.8630\n",
      "Epoch 54/100\n",
      "32/32 [==============================] - 1s 23ms/step - loss: 0.4323 - accuracy: 0.8885 - val_loss: 0.4823 - val_accuracy: 0.8493\n",
      "Epoch 55/100\n",
      "32/32 [==============================] - 1s 22ms/step - loss: 0.4226 - accuracy: 0.8855 - val_loss: 0.4529 - val_accuracy: 0.8584\n",
      "Epoch 56/100\n",
      "32/32 [==============================] - 1s 23ms/step - loss: 0.4399 - accuracy: 0.8826 - val_loss: 0.4710 - val_accuracy: 0.8630\n",
      "Epoch 57/100\n",
      "32/32 [==============================] - 1s 22ms/step - loss: 0.4245 - accuracy: 0.8855 - val_loss: 0.4648 - val_accuracy: 0.8402\n",
      "Epoch 58/100\n",
      "32/32 [==============================] - 1s 21ms/step - loss: 0.4241 - accuracy: 0.8855 - val_loss: 0.4572 - val_accuracy: 0.8630\n",
      "Epoch 59/100\n",
      "32/32 [==============================] - 1s 21ms/step - loss: 0.4277 - accuracy: 0.8943 - val_loss: 0.4836 - val_accuracy: 0.8447\n",
      "Epoch 60/100\n",
      "32/32 [==============================] - 1s 24ms/step - loss: 0.4674 - accuracy: 0.8699 - val_loss: 0.4607 - val_accuracy: 0.8676\n",
      "Epoch 61/100\n",
      "32/32 [==============================] - 1s 26ms/step - loss: 0.4380 - accuracy: 0.8787 - val_loss: 0.4537 - val_accuracy: 0.8676\n",
      "Epoch 62/100\n",
      "32/32 [==============================] - 1s 23ms/step - loss: 0.4376 - accuracy: 0.8865 - val_loss: 0.4571 - val_accuracy: 0.8630\n",
      "Epoch 63/100\n",
      "32/32 [==============================] - 1s 21ms/step - loss: 0.4225 - accuracy: 0.8885 - val_loss: 0.4531 - val_accuracy: 0.8676\n",
      "Epoch 64/100\n",
      "32/32 [==============================] - 1s 22ms/step - loss: 0.4250 - accuracy: 0.8943 - val_loss: 0.4615 - val_accuracy: 0.8447\n",
      "Epoch 65/100\n",
      "32/32 [==============================] - 1s 21ms/step - loss: 0.4226 - accuracy: 0.8933 - val_loss: 0.4493 - val_accuracy: 0.8630\n",
      "Epoch 66/100\n",
      "32/32 [==============================] - 1s 21ms/step - loss: 0.4356 - accuracy: 0.8718 - val_loss: 0.4772 - val_accuracy: 0.8402\n",
      "Epoch 67/100\n",
      "32/32 [==============================] - 1s 21ms/step - loss: 0.4361 - accuracy: 0.8855 - val_loss: 0.4511 - val_accuracy: 0.8584\n",
      "Epoch 68/100\n",
      "32/32 [==============================] - 1s 25ms/step - loss: 0.4288 - accuracy: 0.8845 - val_loss: 0.4628 - val_accuracy: 0.8402\n",
      "Epoch 69/100\n",
      "32/32 [==============================] - 1s 21ms/step - loss: 0.4375 - accuracy: 0.8767 - val_loss: 0.4893 - val_accuracy: 0.8493\n",
      "Epoch 70/100\n",
      "32/32 [==============================] - 1s 21ms/step - loss: 0.4253 - accuracy: 0.8924 - val_loss: 0.5302 - val_accuracy: 0.8402\n",
      "Epoch 71/100\n",
      "32/32 [==============================] - 1s 21ms/step - loss: 0.4663 - accuracy: 0.8650 - val_loss: 0.5084 - val_accuracy: 0.8447\n",
      "Epoch 72/100\n",
      "32/32 [==============================] - 1s 21ms/step - loss: 0.4440 - accuracy: 0.8816 - val_loss: 0.4546 - val_accuracy: 0.8630\n",
      "Epoch 73/100\n",
      "32/32 [==============================] - 1s 21ms/step - loss: 0.4260 - accuracy: 0.8855 - val_loss: 0.4616 - val_accuracy: 0.8539\n",
      "Epoch 74/100\n",
      "32/32 [==============================] - 1s 21ms/step - loss: 0.4265 - accuracy: 0.8855 - val_loss: 0.4603 - val_accuracy: 0.8539\n",
      "Epoch 75/100\n",
      "32/32 [==============================] - 1s 21ms/step - loss: 0.4267 - accuracy: 0.8865 - val_loss: 0.4551 - val_accuracy: 0.8676\n",
      "Epoch 76/100\n",
      "32/32 [==============================] - 1s 21ms/step - loss: 0.4245 - accuracy: 0.8816 - val_loss: 0.4741 - val_accuracy: 0.8402\n",
      "Epoch 77/100\n",
      "32/32 [==============================] - 1s 21ms/step - loss: 0.4324 - accuracy: 0.8816 - val_loss: 0.4607 - val_accuracy: 0.8493\n",
      "Epoch 78/100\n",
      "32/32 [==============================] - 1s 21ms/step - loss: 0.4242 - accuracy: 0.8787 - val_loss: 0.4547 - val_accuracy: 0.8584\n",
      "Epoch 79/100\n",
      "32/32 [==============================] - 1s 22ms/step - loss: 0.4349 - accuracy: 0.8865 - val_loss: 0.4749 - val_accuracy: 0.8630\n",
      "Epoch 80/100\n",
      "32/32 [==============================] - 1s 26ms/step - loss: 0.4500 - accuracy: 0.8630 - val_loss: 0.4624 - val_accuracy: 0.8493\n",
      "Epoch 81/100\n",
      "32/32 [==============================] - 1s 22ms/step - loss: 0.4243 - accuracy: 0.8914 - val_loss: 0.4519 - val_accuracy: 0.8676\n",
      "Epoch 82/100\n",
      "32/32 [==============================] - 1s 22ms/step - loss: 0.4147 - accuracy: 0.8963 - val_loss: 0.4693 - val_accuracy: 0.8493\n",
      "Epoch 83/100\n",
      "32/32 [==============================] - 1s 24ms/step - loss: 0.4256 - accuracy: 0.8885 - val_loss: 0.4497 - val_accuracy: 0.8630\n",
      "Epoch 84/100\n",
      "32/32 [==============================] - 1s 22ms/step - loss: 0.4200 - accuracy: 0.8933 - val_loss: 0.4479 - val_accuracy: 0.8584\n",
      "Epoch 85/100\n",
      "32/32 [==============================] - 1s 23ms/step - loss: 0.4345 - accuracy: 0.8796 - val_loss: 0.5136 - val_accuracy: 0.8539\n",
      "Epoch 86/100\n",
      "32/32 [==============================] - 1s 21ms/step - loss: 0.4218 - accuracy: 0.8845 - val_loss: 0.5043 - val_accuracy: 0.8402\n",
      "Epoch 87/100\n",
      "32/32 [==============================] - 1s 21ms/step - loss: 0.4316 - accuracy: 0.8777 - val_loss: 0.4567 - val_accuracy: 0.8676\n",
      "Epoch 88/100\n",
      "32/32 [==============================] - 1s 23ms/step - loss: 0.4337 - accuracy: 0.8826 - val_loss: 0.4859 - val_accuracy: 0.8447\n",
      "Epoch 89/100\n",
      "32/32 [==============================] - 1s 23ms/step - loss: 0.4457 - accuracy: 0.8748 - val_loss: 0.4905 - val_accuracy: 0.8447\n",
      "Epoch 90/100\n",
      "32/32 [==============================] - 1s 21ms/step - loss: 0.4566 - accuracy: 0.8738 - val_loss: 0.4887 - val_accuracy: 0.8539\n",
      "Epoch 91/100\n",
      "32/32 [==============================] - 1s 21ms/step - loss: 0.4310 - accuracy: 0.8855 - val_loss: 0.4774 - val_accuracy: 0.8447\n",
      "Epoch 92/100\n",
      "32/32 [==============================] - 1s 21ms/step - loss: 0.4228 - accuracy: 0.8875 - val_loss: 0.4484 - val_accuracy: 0.8676\n",
      "Epoch 93/100\n",
      "32/32 [==============================] - 1s 22ms/step - loss: 0.4222 - accuracy: 0.8924 - val_loss: 0.4608 - val_accuracy: 0.8493\n",
      "Epoch 94/100\n",
      "32/32 [==============================] - 1s 22ms/step - loss: 0.4334 - accuracy: 0.8894 - val_loss: 0.4751 - val_accuracy: 0.8402\n",
      "Epoch 95/100\n",
      "32/32 [==============================] - 1s 21ms/step - loss: 0.4265 - accuracy: 0.8855 - val_loss: 0.4530 - val_accuracy: 0.8584\n",
      "Epoch 96/100\n",
      "32/32 [==============================] - 1s 21ms/step - loss: 0.4196 - accuracy: 0.8787 - val_loss: 0.4856 - val_accuracy: 0.8447\n",
      "Epoch 97/100\n",
      "32/32 [==============================] - 1s 21ms/step - loss: 0.4284 - accuracy: 0.8875 - val_loss: 0.4514 - val_accuracy: 0.8630\n",
      "Epoch 98/100\n",
      "32/32 [==============================] - 1s 21ms/step - loss: 0.4504 - accuracy: 0.8865 - val_loss: 0.5256 - val_accuracy: 0.8219\n",
      "Epoch 99/100\n",
      "32/32 [==============================] - 1s 21ms/step - loss: 0.4339 - accuracy: 0.8836 - val_loss: 0.4556 - val_accuracy: 0.8584\n",
      "Epoch 100/100\n",
      "32/32 [==============================] - 1s 21ms/step - loss: 0.4438 - accuracy: 0.8757 - val_loss: 0.4563 - val_accuracy: 0.8584\n"
     ]
    }
   ],
   "source": [
    "model_3.compile(optimizer='adam',\n",
    "              loss='binary_crossentropy',\n",
    "              metrics=['accuracy'])\n",
    "hist_3 = model_3.fit(X_train, Y_train,\n",
    "          batch_size=32, epochs=100,\n",
    "          validation_data=(X_val, Y_val))"
   ]
  },
  {
   "cell_type": "raw",
   "id": "74fac6ad-3f72-4e56-8edb-17af3d443f7f",
   "metadata": {},
   "source": [
    "We'll now plot the loss and accuracy graphs for Model 3. You'll notice that the loss is a lot higher at the start, and that's because we've changed our loss function. To plot such that the window is zoomed in between 0 and 1.2 for the loss, we add an additional line of code (plt.ylim) when plotting"
   ]
  },
  {
   "cell_type": "code",
   "execution_count": 26,
   "id": "3ee6f53d-70f7-4bc2-8613-794d5720f627",
   "metadata": {},
   "outputs": [
    {
     "data": {
      "image/png": "[encoded data removed]",
      "text/plain": [
       "<Figure size 432x288 with 1 Axes>"
      ]
     },
     "metadata": {
      "needs_background": "light"
     },
     "output_type": "display_data"
    }
   ],
   "source": [
    "plt.plot(hist_3.history['loss'])\n",
    "plt.plot(hist_3.history['val_loss'])\n",
    "plt.title('Model loss')\n",
    "plt.ylabel('Loss')\n",
    "plt.xlabel('Epoch')\n",
    "plt.legend(['Train', 'Val'], loc='upper right')\n",
    "plt.ylim(top=1.2, bottom=0)\n",
    "plt.show()"
   ]
  },
  {
   "cell_type": "code",
   "execution_count": 31,
   "id": "1bb044f7-84d8-45ff-b064-e0f24bc03f9a",
   "metadata": {},
   "outputs": [
    {
     "data": {
      "image/png": "[encoded data removed]",
      "text/plain": [
       "<Figure size 432x288 with 1 Axes>"
      ]
     },
     "metadata": {
      "needs_background": "light"
     },
     "output_type": "display_data"
    }
   ],
   "source": [
    "plt.plot(hist_3.history['accuracy'])\n",
    "plt.plot(hist_3.history['val_accuracy'])\n",
    "plt.title('Model accuracy')\n",
    "plt.ylabel('Accuracy')\n",
    "plt.xlabel('Epoch')\n",
    "plt.legend(['Train', 'Val'], loc='lower right')\n",
    "plt.show()"
   ]
  },
  {
   "cell_type": "raw",
   "id": "02fcf209-39fb-40c3-be0e-c1a083015d4a",
   "metadata": {},
   "source": [
    "As compared to Model 2, you should see that there's less overfitting!"
   ]
  }
 ],
 "metadata": {
  "kernelspec": {
   "display_name": "Python 3",
   "language": "python",
   "name": "python3"
  },
  "language_info": {
   "codemirror_mode": {
    "name": "ipython",
    "version": 3
   },
   "file_extension": ".py",
   "mimetype": "text/x-python",
   "name": "python",
   "nbconvert_exporter": "python",
   "pygments_lexer": "ipython3",
   "version": "3.8.8"
  }
 },
 "nbformat": 4,
 "nbformat_minor": 5
}
